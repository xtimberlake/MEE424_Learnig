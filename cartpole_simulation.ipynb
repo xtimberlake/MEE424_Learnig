{
 "cells": [
  {
   "cell_type": "code",
   "execution_count": 11,
   "metadata": {},
   "outputs": [],
   "source": [
    "import pydrake.all\n",
    "import numpy as np\n",
    "import sympy as sym"
   ]
  },
  {
   "cell_type": "code",
   "execution_count": 2,
   "metadata": {},
   "outputs": [],
   "source": [
    "#define constants\n",
    "t, g= sym.symbols('t g')\n",
    "mc, mp = sym.symbols('m_c m_p')\n",
    "L, fx = sym.symbols('L f_x ')\n",
    "\n",
    "# define variables \n",
    "theta,z = sym.symbols(r'\\theta, z')\n",
    "z_d = sym.symbols('z_d')\n",
    "theta_d = sym.symbols(r'\\theta_d')"
   ]
  },
  {
   "cell_type": "code",
   "execution_count": 5,
   "metadata": {},
   "outputs": [],
   "source": [
    "z_dd = 1/(mc + mp*sym.sin(theta)**2)*(fx + mp*sym.sin(theta)*(L*(theta_d)**2+g*sym.cos(theta)))\n",
    "theta_dd = 1/(L*(mc + mp*sym.sin(theta)**2))*(-fx*sym.cos(theta)-mp*L*(theta_d)**2*sym.cos(theta)*sym.sin(theta)-(mc+mp)*g*sym.sin(theta))\n",
    "\n",
    "x_vec = sym.Matrix([z,theta,z_d,theta_d])\n",
    "vector_field = sym.Matrix([z_d, theta_d,z_dd, theta_dd])"
   ]
  },
  {
   "cell_type": "code",
   "execution_count": 6,
   "metadata": {},
   "outputs": [
    {
     "data": {
      "text/latex": [
       "$\\displaystyle \\left[\\begin{matrix}z_{d}\\\\\\theta_{d}\\\\\\frac{f_{x} + m_{p} \\left(L \\theta_{d}^{2} + g \\cos{\\left(\\theta \\right)}\\right) \\sin{\\left(\\theta \\right)}}{m_{c} + m_{p} \\sin^{2}{\\left(\\theta \\right)}}\\\\\\frac{- L \\theta_{d}^{2} m_{p} \\sin{\\left(\\theta \\right)} \\cos{\\left(\\theta \\right)} - f_{x} \\cos{\\left(\\theta \\right)} - g \\left(m_{c} + m_{p}\\right) \\sin{\\left(\\theta \\right)}}{L \\left(m_{c} + m_{p} \\sin^{2}{\\left(\\theta \\right)}\\right)}\\end{matrix}\\right]$"
      ],
      "text/plain": [
       "Matrix([\n",
       "[                                                                                                                      z_d],\n",
       "[                                                                                                                 \\theta_d],\n",
       "[                                       (f_x + m_p*(L*\\theta_d**2 + g*cos(\\theta))*sin(\\theta))/(m_c + m_p*sin(\\theta)**2)],\n",
       "[(-L*\\theta_d**2*m_p*sin(\\theta)*cos(\\theta) - f_x*cos(\\theta) - g*(m_c + m_p)*sin(\\theta))/(L*(m_c + m_p*sin(\\theta)**2))]])"
      ]
     },
     "execution_count": 6,
     "metadata": {},
     "output_type": "execute_result"
    }
   ],
   "source": [
    "vector_field"
   ]
  },
  {
   "cell_type": "code",
   "execution_count": 7,
   "metadata": {},
   "outputs": [],
   "source": [
    "# Linearization\n",
    "# calculate the Jacobian around equilibrim point\n",
    "pfpx = vector_field.jacobian([z, theta, z_d, theta_d])\n",
    "pfpu = vector_field.jacobian([fx])"
   ]
  },
  {
   "cell_type": "code",
   "execution_count": 9,
   "metadata": {},
   "outputs": [
    {
     "data": {
      "text/latex": [
       "$\\displaystyle \\left[\\begin{matrix}0 & 0 & 1 & 0\\\\0 & 0 & 0 & 1\\\\0 & - \\frac{2 m_{p} \\left(f_{x} + m_{p} \\left(L \\theta_{d}^{2} + g \\cos{\\left(\\theta \\right)}\\right) \\sin{\\left(\\theta \\right)}\\right) \\sin{\\left(\\theta \\right)} \\cos{\\left(\\theta \\right)}}{\\left(m_{c} + m_{p} \\sin^{2}{\\left(\\theta \\right)}\\right)^{2}} + \\frac{- g m_{p} \\sin^{2}{\\left(\\theta \\right)} + m_{p} \\left(L \\theta_{d}^{2} + g \\cos{\\left(\\theta \\right)}\\right) \\cos{\\left(\\theta \\right)}}{m_{c} + m_{p} \\sin^{2}{\\left(\\theta \\right)}} & 0 & \\frac{2 L \\theta_{d} m_{p} \\sin{\\left(\\theta \\right)}}{m_{c} + m_{p} \\sin^{2}{\\left(\\theta \\right)}}\\\\0 & - \\frac{2 m_{p} \\left(- L \\theta_{d}^{2} m_{p} \\sin{\\left(\\theta \\right)} \\cos{\\left(\\theta \\right)} - f_{x} \\cos{\\left(\\theta \\right)} - g \\left(m_{c} + m_{p}\\right) \\sin{\\left(\\theta \\right)}\\right) \\sin{\\left(\\theta \\right)} \\cos{\\left(\\theta \\right)}}{L \\left(m_{c} + m_{p} \\sin^{2}{\\left(\\theta \\right)}\\right)^{2}} + \\frac{L \\theta_{d}^{2} m_{p} \\sin^{2}{\\left(\\theta \\right)} - L \\theta_{d}^{2} m_{p} \\cos^{2}{\\left(\\theta \\right)} + f_{x} \\sin{\\left(\\theta \\right)} - g \\left(m_{c} + m_{p}\\right) \\cos{\\left(\\theta \\right)}}{L \\left(m_{c} + m_{p} \\sin^{2}{\\left(\\theta \\right)}\\right)} & 0 & - \\frac{2 \\theta_{d} m_{p} \\sin{\\left(\\theta \\right)} \\cos{\\left(\\theta \\right)}}{m_{c} + m_{p} \\sin^{2}{\\left(\\theta \\right)}}\\end{matrix}\\right]$"
      ],
      "text/plain": [
       "Matrix([\n",
       "[0,                                                                                                                                                                                                                                                                                                                0, 1,                                                                  0],\n",
       "[0,                                                                                                                                                                                                                                                                                                                0, 0,                                                                  1],\n",
       "[0,                                                                                      -2*m_p*(f_x + m_p*(L*\\theta_d**2 + g*cos(\\theta))*sin(\\theta))*sin(\\theta)*cos(\\theta)/(m_c + m_p*sin(\\theta)**2)**2 + (-g*m_p*sin(\\theta)**2 + m_p*(L*\\theta_d**2 + g*cos(\\theta))*cos(\\theta))/(m_c + m_p*sin(\\theta)**2), 0,            2*L*\\theta_d*m_p*sin(\\theta)/(m_c + m_p*sin(\\theta)**2)],\n",
       "[0, -2*m_p*(-L*\\theta_d**2*m_p*sin(\\theta)*cos(\\theta) - f_x*cos(\\theta) - g*(m_c + m_p)*sin(\\theta))*sin(\\theta)*cos(\\theta)/(L*(m_c + m_p*sin(\\theta)**2)**2) + (L*\\theta_d**2*m_p*sin(\\theta)**2 - L*\\theta_d**2*m_p*cos(\\theta)**2 + f_x*sin(\\theta) - g*(m_c + m_p)*cos(\\theta))/(L*(m_c + m_p*sin(\\theta)**2)), 0, -2*\\theta_d*m_p*sin(\\theta)*cos(\\theta)/(m_c + m_p*sin(\\theta)**2)]])"
      ]
     },
     "execution_count": 9,
     "metadata": {},
     "output_type": "execute_result"
    }
   ],
   "source": [
    "pfpx\n"
   ]
  },
  {
   "cell_type": "code",
   "execution_count": 10,
   "metadata": {},
   "outputs": [
    {
     "data": {
      "text/latex": [
       "$\\displaystyle \\left[\\begin{matrix}0\\\\0\\\\\\frac{1}{m_{c} + m_{p} \\sin^{2}{\\left(\\theta \\right)}}\\\\- \\frac{\\cos{\\left(\\theta \\right)}}{L \\left(m_{c} + m_{p} \\sin^{2}{\\left(\\theta \\right)}\\right)}\\end{matrix}\\right]$"
      ],
      "text/plain": [
       "Matrix([\n",
       "[                                          0],\n",
       "[                                          0],\n",
       "[               1/(m_c + m_p*sin(\\theta)**2)],\n",
       "[-cos(\\theta)/(L*(m_c + m_p*sin(\\theta)**2))]])"
      ]
     },
     "execution_count": 10,
     "metadata": {},
     "output_type": "execute_result"
    }
   ],
   "source": [
    "pfpu"
   ]
  },
  {
   "cell_type": "code",
   "execution_count": 17,
   "metadata": {},
   "outputs": [],
   "source": [
    "# Convert a SymPy expression into a function\n",
    "function_pfpx = sym.lambdify((g,fx,mc,mp,L,theta,theta_d,z,z_d), pfpx)\n",
    "funciton_pfpu = sym.lambdify((g,fx,mc,mp,L,theta,theta_d,z,z_d), pfpu)\n",
    "Ahat = function_pfpx(9.81,0,10,1,0.5,np.pi,0,0,0)\n",
    "Bhat = funciton_pfpu(9.81,0,10,1,0.5,np.pi,0,0,0)"
   ]
  },
  {
   "cell_type": "code",
   "execution_count": 18,
   "metadata": {},
   "outputs": [
    {
     "data": {
      "text/plain": [
       "array([[ 0.   ,  0.   ,  1.   ,  0.   ],\n",
       "       [ 0.   ,  0.   ,  0.   ,  1.   ],\n",
       "       [ 0.   ,  0.981,  0.   ,  0.   ],\n",
       "       [ 0.   , 21.582,  0.   , -0.   ]])"
      ]
     },
     "execution_count": 18,
     "metadata": {},
     "output_type": "execute_result"
    }
   ],
   "source": [
    "Ahat "
   ]
  },
  {
   "cell_type": "code",
   "execution_count": 19,
   "metadata": {},
   "outputs": [
    {
     "data": {
      "text/plain": [
       "array([[0. ],\n",
       "       [0. ],\n",
       "       [0.1],\n",
       "       [0.2]])"
      ]
     },
     "execution_count": 19,
     "metadata": {},
     "output_type": "execute_result"
    }
   ],
   "source": [
    "Bhat"
   ]
  },
  {
   "cell_type": "code",
   "execution_count": 24,
   "metadata": {},
   "outputs": [],
   "source": [
    "import scipy.signal as sig\n",
    "cartpole_gain = sig.place_poles(Ahat, Bhat,  [-1+2*1j, -1-2*1j, -3, -2]).gain_matrix"
   ]
  },
  {
   "cell_type": "code",
   "execution_count": 25,
   "metadata": {},
   "outputs": [
    {
     "data": {
      "text/plain": [
       "array([[-15.29051988, 220.55525994, -18.85830785,  44.42915392]])"
      ]
     },
     "execution_count": 25,
     "metadata": {},
     "output_type": "execute_result"
    }
   ],
   "source": [
    "cartpole_gain"
   ]
  },
  {
   "cell_type": "code",
   "execution_count": 40,
   "metadata": {},
   "outputs": [],
   "source": [
    "from pydrake.all import LinearQuadraticRegulator, LinearSystem\n",
    "Q = np.diag((10., 10., 1., 1.))\n",
    "R = [1]\n",
    "Chat = np.mat('0,0,0,0')\n",
    "Dhat = [0]\n",
    "cartpole_syst = LinearSystem(Ahat, Bhat, Chat, Dhat)\n",
    "lqr = LinearQuadraticRegulator(cartpole_syst, Q, R)"
   ]
  }
 ],
 "metadata": {
  "interpreter": {
   "hash": "fef9f89ec7b595ea2c7cc7457fc3d0bdf2dd88890726edc1366c402bc102561e"
  },
  "kernelspec": {
   "display_name": "Python 3.8.10 64-bit ('env': venv)",
   "language": "python",
   "name": "python3"
  },
  "language_info": {
   "codemirror_mode": {
    "name": "ipython",
    "version": 3
   },
   "file_extension": ".py",
   "mimetype": "text/x-python",
   "name": "python",
   "nbconvert_exporter": "python",
   "pygments_lexer": "ipython3",
   "version": "3.8.10"
  },
  "orig_nbformat": 4
 },
 "nbformat": 4,
 "nbformat_minor": 2
}
